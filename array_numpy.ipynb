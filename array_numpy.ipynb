{
  "nbformat": 4,
  "nbformat_minor": 0,
  "metadata": {
    "colab": {
      "name": "array_numpy.ipynb",
      "provenance": [],
      "authorship_tag": "ABX9TyN2ZZFpQJFvegcQSGInGlV4",
      "include_colab_link": true
    },
    "kernelspec": {
      "name": "python3",
      "display_name": "Python 3"
    },
    "language_info": {
      "name": "python"
    }
  },
  "cells": [
    {
      "cell_type": "markdown",
      "metadata": {
        "id": "view-in-github",
        "colab_type": "text"
      },
      "source": [
        "<a href=\"https://colab.research.google.com/github/mkh-ai/Complete-Python-3-Bootcamp/blob/master/array_numpy.ipynb\" target=\"_parent\"><img src=\"https://colab.research.google.com/assets/colab-badge.svg\" alt=\"Open In Colab\"/></a>"
      ]
    },
    {
      "cell_type": "code",
      "execution_count": 1,
      "metadata": {
        "id": "sH8QuiOlpFY8"
      },
      "outputs": [],
      "source": [
        "import numpy as np"
      ]
    },
    {
      "cell_type": "code",
      "source": [
        "data1 = [1,2,3,4]\n",
        "arr1 = np.array(data1)\n"
      ],
      "metadata": {
        "id": "X4xbISnppS9j"
      },
      "execution_count": 2,
      "outputs": []
    },
    {
      "cell_type": "code",
      "source": [
        "arr1"
      ],
      "metadata": {
        "colab": {
          "base_uri": "https://localhost:8080/"
        },
        "id": "smBiLQKNpycG",
        "outputId": "281e2cc3-4fd1-4d94-db69-2f2c76d73d9c"
      },
      "execution_count": 4,
      "outputs": [
        {
          "output_type": "execute_result",
          "data": {
            "text/plain": [
              "array([1, 2, 3, 4])"
            ]
          },
          "metadata": {},
          "execution_count": 4
        }
      ]
    },
    {
      "cell_type": "code",
      "source": [
        "data2 = (5,6,7,8)\n",
        "arr2= np.array(data2)\n"
      ],
      "metadata": {
        "id": "S4HA-uLdpv50"
      },
      "execution_count": 5,
      "outputs": []
    },
    {
      "cell_type": "code",
      "source": [
        "arr2.ndim    # arr2 ning olchami\n"
      ],
      "metadata": {
        "colab": {
          "base_uri": "https://localhost:8080/"
        },
        "id": "udxvC_cjqTt3",
        "outputId": "8e4ea070-f8cb-4b90-df11-036d0832445d"
      },
      "execution_count": 8,
      "outputs": [
        {
          "output_type": "execute_result",
          "data": {
            "text/plain": [
              "1"
            ]
          },
          "metadata": {},
          "execution_count": 8
        }
      ]
    },
    {
      "cell_type": "markdown",
      "source": [
        "**Ikki va undan yuqori bolgan massivlar**"
      ],
      "metadata": {
        "id": "c8rwu1Fpqz2m"
      }
    },
    {
      "cell_type": "code",
      "source": [
        "data3 = [[1,2,3,4,5],[6,7,8,9]]\n",
        "arr3 = np.array(data3)"
      ],
      "metadata": {
        "colab": {
          "base_uri": "https://localhost:8080/"
        },
        "id": "VBtMNdw7qJL9",
        "outputId": "55bc6789-058b-4e30-f427-f46608018a41"
      },
      "execution_count": 11,
      "outputs": [
        {
          "output_type": "stream",
          "name": "stderr",
          "text": [
            "/usr/local/lib/python3.7/dist-packages/ipykernel_launcher.py:2: VisibleDeprecationWarning: Creating an ndarray from ragged nested sequences (which is a list-or-tuple of lists-or-tuples-or ndarrays with different lengths or shapes) is deprecated. If you meant to do this, you must specify 'dtype=object' when creating the ndarray.\n",
            "  \n"
          ]
        }
      ]
    },
    {
      "cell_type": "code",
      "source": [
        "data4 = [[1,2,3,4],[5,6,7,8,],[9,10,11,12]]   # 3 olchamli massiv\n",
        "arr4 = np.array(data4)\n"
      ],
      "metadata": {
        "id": "V6ADrkaDrO5c"
      },
      "execution_count": 15,
      "outputs": []
    },
    {
      "cell_type": "code",
      "source": [
        "arr4.ndim\n",
        "\n"
      ],
      "metadata": {
        "colab": {
          "base_uri": "https://localhost:8080/"
        },
        "id": "1dOA2uGwrbDE",
        "outputId": "78bddaa1-fd26-4765-b24e-128041e1ad11"
      },
      "execution_count": 18,
      "outputs": [
        {
          "output_type": "execute_result",
          "data": {
            "text/plain": [
              "2"
            ]
          },
          "metadata": {},
          "execution_count": 18
        }
      ]
    },
    {
      "cell_type": "markdown",
      "source": [
        "# shape va sisze metodlari"
      ],
      "metadata": {
        "id": "lDsD3QgVsYL5"
      }
    },
    {
      "cell_type": "code",
      "source": [
        "arr4.shape  # masssivning qator va ustunlarini sonini korsatadi\n",
        "\n",
        "\n"
      ],
      "metadata": {
        "colab": {
          "base_uri": "https://localhost:8080/"
        },
        "id": "1GCxS5sXsOjo",
        "outputId": "8e559225-7c41-484c-dc4f-cb83932b3559"
      },
      "execution_count": 19,
      "outputs": [
        {
          "output_type": "execute_result",
          "data": {
            "text/plain": [
              "(3, 4)"
            ]
          },
          "metadata": {},
          "execution_count": 19
        }
      ]
    },
    {
      "cell_type": "code",
      "source": [
        "arr4.size   # massiv olchamini chiqaradi"
      ],
      "metadata": {
        "colab": {
          "base_uri": "https://localhost:8080/"
        },
        "id": "5YA0ZJqjswZw",
        "outputId": "719ff3b4-e833-4253-f402-3f9e6c7e7fdf"
      },
      "execution_count": 20,
      "outputs": [
        {
          "output_type": "execute_result",
          "data": {
            "text/plain": [
              "12"
            ]
          },
          "metadata": {},
          "execution_count": 20
        }
      ]
    },
    {
      "cell_type": "markdown",
      "source": [
        "# N olchamli massiv yaratishning boshqa usullarni\n"
      ],
      "metadata": {
        "id": "Cjlpw1fVtF9E"
      }
    },
    {
      "cell_type": "markdown",
      "source": [
        "**zeros va ones funksiyalari** "
      ],
      "metadata": {
        "id": "r5NC8zAiuIZz"
      }
    },
    {
      "cell_type": "code",
      "source": [
        "arr5 = np.zeros((3,4))  # barcha elementlari 0 ga teng massiv yaratadi\n",
        "arr5"
      ],
      "metadata": {
        "colab": {
          "base_uri": "https://localhost:8080/"
        },
        "id": "qkdoKXdws8qG",
        "outputId": "5dfc35f0-d725-46c8-8754-ce37daf984a3"
      },
      "execution_count": 22,
      "outputs": [
        {
          "output_type": "execute_result",
          "data": {
            "text/plain": [
              "array([[0., 0., 0., 0.],\n",
              "       [0., 0., 0., 0.],\n",
              "       [0., 0., 0., 0.]])"
            ]
          },
          "metadata": {},
          "execution_count": 22
        }
      ]
    },
    {
      "cell_type": "code",
      "source": [
        "arr6 = np.ones((5,8))   # barcha elementlari 1 ga teng massiv yaratadi\n",
        "arr6"
      ],
      "metadata": {
        "colab": {
          "base_uri": "https://localhost:8080/"
        },
        "id": "pbtPhX7DunjF",
        "outputId": "42ab88b9-1c1f-4cec-91ca-3892fe360b41"
      },
      "execution_count": 23,
      "outputs": [
        {
          "output_type": "execute_result",
          "data": {
            "text/plain": [
              "array([[1., 1., 1., 1., 1., 1., 1., 1.],\n",
              "       [1., 1., 1., 1., 1., 1., 1., 1.],\n",
              "       [1., 1., 1., 1., 1., 1., 1., 1.],\n",
              "       [1., 1., 1., 1., 1., 1., 1., 1.],\n",
              "       [1., 1., 1., 1., 1., 1., 1., 1.]])"
            ]
          },
          "metadata": {},
          "execution_count": 23
        }
      ]
    },
    {
      "cell_type": "markdown",
      "source": [
        "**arange funksiyasi yordanida yaratish**"
      ],
      "metadata": {
        "id": "OE2HVd_lvCT8"
      }
    },
    {
      "cell_type": "code",
      "source": [
        "arr7 = np.arange(34,500,30)  # 30 qadam bilan massiv yaratdi\n",
        "arr7"
      ],
      "metadata": {
        "colab": {
          "base_uri": "https://localhost:8080/"
        },
        "id": "FO3bKlktu_Qf",
        "outputId": "1de67911-d5aa-4cd2-d710-cb16f85b894d"
      },
      "execution_count": 25,
      "outputs": [
        {
          "output_type": "execute_result",
          "data": {
            "text/plain": [
              "array([ 34,  64,  94, 124, 154, 184, 214, 244, 274, 304, 334, 364, 394,\n",
              "       424, 454, 484])"
            ]
          },
          "metadata": {},
          "execution_count": 25
        }
      ]
    },
    {
      "cell_type": "code",
      "source": [
        ""
      ],
      "metadata": {
        "id": "Rkqqok0-vWPf"
      },
      "execution_count": null,
      "outputs": []
    }
  ]
}